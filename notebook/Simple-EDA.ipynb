{
 "cells": [
  {
   "cell_type": "markdown",
   "metadata": {},
   "source": [
    "## Read data and create dataframe"
   ]
  },
  {
   "cell_type": "code",
   "execution_count": 146,
   "metadata": {
    "collapsed": false
   },
   "outputs": [],
   "source": [
    "import dbf\n",
    "import csv"
   ]
  },
  {
   "cell_type": "code",
   "execution_count": 147,
   "metadata": {
    "collapsed": true
   },
   "outputs": [],
   "source": [
    "filename = \"SINASC13_GEO.dbf\""
   ]
  },
  {
   "cell_type": "code",
   "execution_count": 148,
   "metadata": {
    "collapsed": false
   },
   "outputs": [],
   "source": [
    "import pysal as ps\n",
    "import pandas as pd\n",
    "'''\n",
    "Arguments\n",
    "---------\n",
    "dbfile  : DBF file - Input to be imported\n",
    "upper   : Condition - If true, make column heads upper case\n",
    "'''\n",
    "def dbf2DF(dbfile, upper=True): #Reads in DBF files and returns Pandas DF\n",
    "    db = ps.open(dbfile) #Pysal to open DBF\n",
    "    d = {col: db.by_col(col) for col in db.header} #Convert dbf to dictionary\n",
    "    #pandasDF = pd.DataFrame(db[:]) #Convert to Pandas DF\n",
    "    pandasDF = pd.DataFrame(d) #Convert to Pandas DF\n",
    "    if upper == True: #Make columns uppercase if wanted \n",
    "        pandasDF.columns = map(str.upper, db.header) \n",
    "    db.close() \n",
    "    return pandasDF"
   ]
  },
  {
   "cell_type": "code",
   "execution_count": 149,
   "metadata": {
    "collapsed": false
   },
   "outputs": [],
   "source": [
    "uda = dbf2DF(filename, 'True')"
   ]
  },
  {
   "cell_type": "code",
   "execution_count": 150,
   "metadata": {
    "collapsed": false
   },
   "outputs": [
    {
     "name": "stdout",
     "output_type": "stream",
     "text": [
      "[RangeIndex(start=0, stop=172457, step=1), Index([u'APGAR5', u'CODESTAB', u'CODMUNNASC', u'COMUNESTAB', u'COORD_X',\n",
      "       u'COORD_Y', u'DTNASC', u'ESCMAE', u'ESCMAE2010', u'ESTCIVMAE',\n",
      "       u'GRAVIDEZ', u'IDADEMAE', u'PARTO', u'PESO', u'QTDPARTCES',\n",
      "       u'QTDPARTNOR', u'RACACOR', u'RACACORMAE', u'SEMAGESTAC', u'SEXO',\n",
      "       u'STCESPARTO', u'STTRABPART', u'TPAPRESENT', u'TPROBSON'],\n",
      "      dtype='object')]\n"
     ]
    }
   ],
   "source": [
    "print(uda.axes)"
   ]
  },
  {
   "cell_type": "markdown",
   "metadata": {},
   "source": [
    "## Initial EDA "
   ]
  },
  {
   "cell_type": "code",
   "execution_count": 155,
   "metadata": {
    "collapsed": false
   },
   "outputs": [
    {
     "data": {
      "text/plain": [
       "172457"
      ]
     },
     "execution_count": 155,
     "metadata": {},
     "output_type": "execute_result"
    }
   ],
   "source": [
    "len(uda)"
   ]
  },
  {
   "cell_type": "markdown",
   "metadata": {},
   "source": [
    "Dataset with PARTO and GRUPO"
   ]
  },
  {
   "cell_type": "code",
   "execution_count": 164,
   "metadata": {
    "collapsed": false
   },
   "outputs": [],
   "source": [
    "partoEGrupo = uda.loc[uda['PARTO'].isin(['1', '2'])][['PARTO','TPROBSON']]"
   ]
  },
  {
   "cell_type": "markdown",
   "metadata": {},
   "source": [
    "Missing data on PARTO"
   ]
  },
  {
   "cell_type": "code",
   "execution_count": 304,
   "metadata": {
    "collapsed": false
   },
   "outputs": [
    {
     "data": {
      "text/plain": [
       "00    131624\n",
       "01     32219\n",
       "02      6695\n",
       "03      1437\n",
       "04       280\n",
       "         121\n",
       "05        49\n",
       "06        11\n",
       "10         8\n",
       "11         4\n",
       "07         4\n",
       "30         2\n",
       "35         1\n",
       "20         1\n",
       "99         1\n",
       "Name: QTDPARTCES, dtype: int64"
      ]
     },
     "execution_count": 304,
     "metadata": {},
     "output_type": "execute_result"
    }
   ],
   "source": [
    "uda['QTDPARTCES'].value_counts()"
   ]
  },
  {
   "cell_type": "code",
   "execution_count": 184,
   "metadata": {
    "collapsed": true
   },
   "outputs": [],
   "source": [
    "partosPorGrupo = partoEGrupo.groupby(['PARTO','TPROBSON']).size(\n",
    "                             ).reset_index(\n",
    "                             ).rename(columns={0:'PARTOS'}\n",
    "                             ).sort_values(by=['TPROBSON', 'PARTOS'])"
   ]
  },
  {
   "cell_type": "code",
   "execution_count": 185,
   "metadata": {
    "collapsed": false
   },
   "outputs": [],
   "source": [
    "totalPartosPorGrupo = partosPorGrupo.groupby('TPROBSON').sum(\n",
    "                        ).reset_index(\n",
    "                        ).rename(columns={'PARTOS': 'TOTAL_GRUPO'})"
   ]
  },
  {
   "cell_type": "code",
   "execution_count": 186,
   "metadata": {
    "collapsed": false
   },
   "outputs": [
    {
     "data": {
      "text/html": [
       "<div>\n",
       "<table border=\"1\" class=\"dataframe\">\n",
       "  <thead>\n",
       "    <tr style=\"text-align: right;\">\n",
       "      <th></th>\n",
       "      <th>TPROBSON</th>\n",
       "      <th>TOTAL_GRUPO</th>\n",
       "    </tr>\n",
       "  </thead>\n",
       "  <tbody>\n",
       "    <tr>\n",
       "      <th>0</th>\n",
       "      <td>01</td>\n",
       "      <td>17566</td>\n",
       "    </tr>\n",
       "    <tr>\n",
       "      <th>1</th>\n",
       "      <td>02</td>\n",
       "      <td>52095</td>\n",
       "    </tr>\n",
       "    <tr>\n",
       "      <th>2</th>\n",
       "      <td>03</td>\n",
       "      <td>16912</td>\n",
       "    </tr>\n",
       "    <tr>\n",
       "      <th>3</th>\n",
       "      <td>04</td>\n",
       "      <td>22239</td>\n",
       "    </tr>\n",
       "    <tr>\n",
       "      <th>4</th>\n",
       "      <td>05</td>\n",
       "      <td>34531</td>\n",
       "    </tr>\n",
       "  </tbody>\n",
       "</table>\n",
       "</div>"
      ],
      "text/plain": [
       "  TPROBSON  TOTAL_GRUPO\n",
       "0       01        17566\n",
       "1       02        52095\n",
       "2       03        16912\n",
       "3       04        22239\n",
       "4       05        34531"
      ]
     },
     "execution_count": 186,
     "metadata": {},
     "output_type": "execute_result"
    }
   ],
   "source": [
    "totalPartosPorGrupo.head()"
   ]
  },
  {
   "cell_type": "code",
   "execution_count": 187,
   "metadata": {
    "collapsed": false
   },
   "outputs": [],
   "source": [
    "partosPorGrupo = pd.merge(partosPorGrupo, totalPartosPorGrupo, on='TPROBSON')"
   ]
  },
  {
   "cell_type": "code",
   "execution_count": 188,
   "metadata": {
    "collapsed": true
   },
   "outputs": [],
   "source": [
    "partosPorGrupo['%'] = partosPorGrupo['PARTOS']/partosPorGrupo['TOTAL_GRUPO']"
   ]
  },
  {
   "cell_type": "code",
   "execution_count": 191,
   "metadata": {
    "collapsed": false
   },
   "outputs": [
    {
     "data": {
      "text/html": [
       "<div>\n",
       "<table border=\"1\" class=\"dataframe\">\n",
       "  <thead>\n",
       "    <tr style=\"text-align: right;\">\n",
       "      <th></th>\n",
       "      <th>PARTO</th>\n",
       "      <th>TPROBSON</th>\n",
       "      <th>PARTOS</th>\n",
       "      <th>TOTAL_GRUPO</th>\n",
       "      <th>%</th>\n",
       "    </tr>\n",
       "  </thead>\n",
       "  <tbody>\n",
       "    <tr>\n",
       "      <th>1</th>\n",
       "      <td>1</td>\n",
       "      <td>01</td>\n",
       "      <td>10411</td>\n",
       "      <td>17566</td>\n",
       "      <td>0.592679</td>\n",
       "    </tr>\n",
       "    <tr>\n",
       "      <th>0</th>\n",
       "      <td>2</td>\n",
       "      <td>01</td>\n",
       "      <td>7155</td>\n",
       "      <td>17566</td>\n",
       "      <td>0.407321</td>\n",
       "    </tr>\n",
       "    <tr>\n",
       "      <th>2</th>\n",
       "      <td>1</td>\n",
       "      <td>02</td>\n",
       "      <td>19162</td>\n",
       "      <td>52095</td>\n",
       "      <td>0.367828</td>\n",
       "    </tr>\n",
       "    <tr>\n",
       "      <th>3</th>\n",
       "      <td>2</td>\n",
       "      <td>02</td>\n",
       "      <td>32933</td>\n",
       "      <td>52095</td>\n",
       "      <td>0.632172</td>\n",
       "    </tr>\n",
       "    <tr>\n",
       "      <th>5</th>\n",
       "      <td>1</td>\n",
       "      <td>03</td>\n",
       "      <td>14794</td>\n",
       "      <td>16912</td>\n",
       "      <td>0.874763</td>\n",
       "    </tr>\n",
       "    <tr>\n",
       "      <th>4</th>\n",
       "      <td>2</td>\n",
       "      <td>03</td>\n",
       "      <td>2118</td>\n",
       "      <td>16912</td>\n",
       "      <td>0.125237</td>\n",
       "    </tr>\n",
       "    <tr>\n",
       "      <th>7</th>\n",
       "      <td>1</td>\n",
       "      <td>04</td>\n",
       "      <td>16056</td>\n",
       "      <td>22239</td>\n",
       "      <td>0.721975</td>\n",
       "    </tr>\n",
       "    <tr>\n",
       "      <th>6</th>\n",
       "      <td>2</td>\n",
       "      <td>04</td>\n",
       "      <td>6183</td>\n",
       "      <td>22239</td>\n",
       "      <td>0.278025</td>\n",
       "    </tr>\n",
       "    <tr>\n",
       "      <th>8</th>\n",
       "      <td>1</td>\n",
       "      <td>05</td>\n",
       "      <td>6067</td>\n",
       "      <td>34531</td>\n",
       "      <td>0.175697</td>\n",
       "    </tr>\n",
       "    <tr>\n",
       "      <th>9</th>\n",
       "      <td>2</td>\n",
       "      <td>05</td>\n",
       "      <td>28464</td>\n",
       "      <td>34531</td>\n",
       "      <td>0.824303</td>\n",
       "    </tr>\n",
       "    <tr>\n",
       "      <th>10</th>\n",
       "      <td>1</td>\n",
       "      <td>06</td>\n",
       "      <td>250</td>\n",
       "      <td>3025</td>\n",
       "      <td>0.082645</td>\n",
       "    </tr>\n",
       "    <tr>\n",
       "      <th>11</th>\n",
       "      <td>2</td>\n",
       "      <td>06</td>\n",
       "      <td>2775</td>\n",
       "      <td>3025</td>\n",
       "      <td>0.917355</td>\n",
       "    </tr>\n",
       "    <tr>\n",
       "      <th>12</th>\n",
       "      <td>1</td>\n",
       "      <td>07</td>\n",
       "      <td>322</td>\n",
       "      <td>2409</td>\n",
       "      <td>0.133665</td>\n",
       "    </tr>\n",
       "    <tr>\n",
       "      <th>13</th>\n",
       "      <td>2</td>\n",
       "      <td>07</td>\n",
       "      <td>2087</td>\n",
       "      <td>2409</td>\n",
       "      <td>0.866335</td>\n",
       "    </tr>\n",
       "    <tr>\n",
       "      <th>14</th>\n",
       "      <td>1</td>\n",
       "      <td>08</td>\n",
       "      <td>509</td>\n",
       "      <td>4417</td>\n",
       "      <td>0.115237</td>\n",
       "    </tr>\n",
       "    <tr>\n",
       "      <th>15</th>\n",
       "      <td>2</td>\n",
       "      <td>08</td>\n",
       "      <td>3908</td>\n",
       "      <td>4417</td>\n",
       "      <td>0.884763</td>\n",
       "    </tr>\n",
       "    <tr>\n",
       "      <th>16</th>\n",
       "      <td>1</td>\n",
       "      <td>09</td>\n",
       "      <td>13</td>\n",
       "      <td>325</td>\n",
       "      <td>0.040000</td>\n",
       "    </tr>\n",
       "    <tr>\n",
       "      <th>17</th>\n",
       "      <td>2</td>\n",
       "      <td>09</td>\n",
       "      <td>312</td>\n",
       "      <td>325</td>\n",
       "      <td>0.960000</td>\n",
       "    </tr>\n",
       "    <tr>\n",
       "      <th>18</th>\n",
       "      <td>1</td>\n",
       "      <td>10</td>\n",
       "      <td>7500</td>\n",
       "      <td>15595</td>\n",
       "      <td>0.480923</td>\n",
       "    </tr>\n",
       "    <tr>\n",
       "      <th>19</th>\n",
       "      <td>2</td>\n",
       "      <td>10</td>\n",
       "      <td>8095</td>\n",
       "      <td>15595</td>\n",
       "      <td>0.519077</td>\n",
       "    </tr>\n",
       "    <tr>\n",
       "      <th>21</th>\n",
       "      <td>1</td>\n",
       "      <td>11</td>\n",
       "      <td>2111</td>\n",
       "      <td>3317</td>\n",
       "      <td>0.636418</td>\n",
       "    </tr>\n",
       "    <tr>\n",
       "      <th>20</th>\n",
       "      <td>2</td>\n",
       "      <td>11</td>\n",
       "      <td>1206</td>\n",
       "      <td>3317</td>\n",
       "      <td>0.363582</td>\n",
       "    </tr>\n",
       "    <tr>\n",
       "      <th>23</th>\n",
       "      <td>1</td>\n",
       "      <td>12</td>\n",
       "      <td>8</td>\n",
       "      <td>11</td>\n",
       "      <td>0.727273</td>\n",
       "    </tr>\n",
       "    <tr>\n",
       "      <th>22</th>\n",
       "      <td>2</td>\n",
       "      <td>12</td>\n",
       "      <td>3</td>\n",
       "      <td>11</td>\n",
       "      <td>0.272727</td>\n",
       "    </tr>\n",
       "  </tbody>\n",
       "</table>\n",
       "</div>"
      ],
      "text/plain": [
       "   PARTO TPROBSON  PARTOS  TOTAL_GRUPO         %\n",
       "1      1       01   10411        17566  0.592679\n",
       "0      2       01    7155        17566  0.407321\n",
       "2      1       02   19162        52095  0.367828\n",
       "3      2       02   32933        52095  0.632172\n",
       "5      1       03   14794        16912  0.874763\n",
       "4      2       03    2118        16912  0.125237\n",
       "7      1       04   16056        22239  0.721975\n",
       "6      2       04    6183        22239  0.278025\n",
       "8      1       05    6067        34531  0.175697\n",
       "9      2       05   28464        34531  0.824303\n",
       "10     1       06     250         3025  0.082645\n",
       "11     2       06    2775         3025  0.917355\n",
       "12     1       07     322         2409  0.133665\n",
       "13     2       07    2087         2409  0.866335\n",
       "14     1       08     509         4417  0.115237\n",
       "15     2       08    3908         4417  0.884763\n",
       "16     1       09      13          325  0.040000\n",
       "17     2       09     312          325  0.960000\n",
       "18     1       10    7500        15595  0.480923\n",
       "19     2       10    8095        15595  0.519077\n",
       "21     1       11    2111         3317  0.636418\n",
       "20     2       11    1206         3317  0.363582\n",
       "23     1       12       8           11  0.727273\n",
       "22     2       12       3           11  0.272727"
      ]
     },
     "execution_count": 191,
     "metadata": {},
     "output_type": "execute_result"
    }
   ],
   "source": [
    "partosPorGrupo.sort_values(by=['TPROBSON', 'PARTO'])"
   ]
  }
 ],
 "metadata": {
  "anaconda-cloud": {},
  "kernelspec": {
   "display_name": "Python [conda root]",
   "language": "python",
   "name": "conda-root-py"
  },
  "language_info": {
   "codemirror_mode": {
    "name": "ipython",
    "version": 2
   },
   "file_extension": ".py",
   "mimetype": "text/x-python",
   "name": "python",
   "nbconvert_exporter": "python",
   "pygments_lexer": "ipython2",
   "version": "2.7.12"
  }
 },
 "nbformat": 4,
 "nbformat_minor": 1
}
