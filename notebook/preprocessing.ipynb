{
 "cells": [
  {
   "cell_type": "markdown",
   "metadata": {},
   "source": [
    "## Read data and create dataframe"
   ]
  },
  {
   "cell_type": "code",
   "execution_count": 1,
   "metadata": {
    "collapsed": false
   },
   "outputs": [],
   "source": [
    "import csv #Final files are to be exported in CSV\n",
    "import pysal as ps #Input file is in DBF; pysal is used to convert it to pandas dataframe\n",
    "import pandas as pd #Dataframe is the data structure used"
   ]
  },
  {
   "cell_type": "code",
   "execution_count": 2,
   "metadata": {
    "collapsed": true
   },
   "outputs": [],
   "source": [
    "filename = \"data/SINASC13_GEO.dbf\""
   ]
  },
  {
   "cell_type": "code",
   "execution_count": 3,
   "metadata": {
    "collapsed": false
   },
   "outputs": [],
   "source": [
    "def dbf2DF(dbfile): #Reads in DBF files and returns Pandas DF\n",
    "    db = ps.open(dbfile)\n",
    "    d = {col: db.by_col(col) for col in db.header} #Convert dbf to dictionary\n",
    "    pandasDF = pd.DataFrame(d) #Convert to Pandas DF\n",
    "    db.close() \n",
    "    return pandasDF"
   ]
  },
  {
   "cell_type": "code",
   "execution_count": 4,
   "metadata": {
    "collapsed": false
   },
   "outputs": [],
   "source": [
    "dataset = dbf2DF(filename)"
   ]
  },
  {
   "cell_type": "markdown",
   "metadata": {},
   "source": [
    "## Calculates Robson group"
   ]
  },
  {
   "cell_type": "code",
   "execution_count": 5,
   "metadata": {
    "collapsed": false
   },
   "outputs": [],
   "source": [
    "def getRobsonGroup(row):\n",
    "    if (row['QTDPARTNOR'] == '00' and \n",
    "        row['QTDPARTCES'] == '00' and \n",
    "        row['GRAVIDEZ'] == '1' and \n",
    "        row['TPAPRESENT'] == '1' and \n",
    "        int(row['SEMAGESTAC']) >= 37 and \n",
    "        row['STTRABPART'] == '2'):\n",
    "        robson = '01'\n",
    "    elif (row['QTDPARTNOR'] == '00' and \n",
    "          row['QTDPARTCES'] == '00' and \n",
    "          row['GRAVIDEZ'] == '1' and \n",
    "          row['TPAPRESENT'] == '1' and \n",
    "          int(row['SEMAGESTAC']) >= 37 and \n",
    "          (row['STTRABPART'] == '1' or \n",
    "          row['STCESPARTO'] == '1')):\n",
    "        robson = '02'\n",
    "    elif (row['QTDPARTNOR'] != '00' and \n",
    "          row['QTDPARTCES'] == '00' and \n",
    "          row['GRAVIDEZ'] == '1' and \n",
    "          row['TPAPRESENT'] == '1' and \n",
    "          int(row['SEMAGESTAC']) >= 37 and \n",
    "          row['STTRABPART'] == '2'):\n",
    "        robson = '03'\n",
    "    elif (row['QTDPARTNOR'] != '00' and \n",
    "          row['QTDPARTCES'] == '00' and \n",
    "          row['GRAVIDEZ'] == '1' and \n",
    "          row['TPAPRESENT'] == '1' and \n",
    "          int(row['SEMAGESTAC']) >= 37 and \n",
    "          (row['STTRABPART'] == '1' or \n",
    "          row['STCESPARTO'] == '1')):\n",
    "        robson = '04'\n",
    "    elif (row['QTDPARTCES'] != '00' and \n",
    "          row['GRAVIDEZ'] == '1' and \n",
    "          row['TPAPRESENT'] == '1' and \n",
    "          int(row['SEMAGESTAC']) >= 37):\n",
    "          robson = '05'\n",
    "    elif (row['QTDPARTNOR'] == '00' and \n",
    "          row['QTDPARTCES'] == '00' and \n",
    "          row['GRAVIDEZ'] == '1' and \n",
    "          row['TPAPRESENT'] == '2'):\n",
    "          robson = '06'\n",
    "    elif ((row['QTDPARTNOR'] != '00' or \n",
    "          row['QTDPARTCES'] != '00') and \n",
    "          row['GRAVIDEZ'] == '1' and \n",
    "          row['TPAPRESENT'] == '2'):\n",
    "        robson = '07'\n",
    "    elif (row['GRAVIDEZ'] == '2' or\n",
    "          row['GRAVIDEZ'] == '3'):\n",
    "        robson = '08'\n",
    "    elif row['TPAPRESENT'] == '3':\n",
    "        robson = '09'\n",
    "    elif (row['GRAVIDEZ'] == '1' and \n",
    "          row['TPAPRESENT'] == '1' and \n",
    "          int(row['SEMAGESTAC']) < 37):\n",
    "        robson = '10'\n",
    "    else: \n",
    "        robson = '11'\n",
    "    return robson"
   ]
  },
  {
   "cell_type": "code",
   "execution_count": 6,
   "metadata": {
    "collapsed": false
   },
   "outputs": [],
   "source": [
    "datasetRC = dataset.drop(dataset[dataset['SEMAGESTAC'] == ''].index)  # Avoids error converting from \"\" to int below\n",
    "datasetRC = datasetRC.drop(datasetRC[datasetRC.CODESTAB == ''].index) # Drops unidentified facilitys\n",
    "datasetRC = datasetRC.drop(datasetRC[datasetRC.PARTO == ''].index)    # Drops uknown type of birth"
   ]
  },
  {
   "cell_type": "markdown",
   "metadata": {},
   "source": [
    "Gets the robson group for each birth"
   ]
  },
  {
   "cell_type": "code",
   "execution_count": 7,
   "metadata": {
    "collapsed": false
   },
   "outputs": [],
   "source": [
    "datasetRC['ROBSON_GROUP'] = datasetRC.apply(getRobsonGroup, axis=1)"
   ]
  },
  {
   "cell_type": "markdown",
   "metadata": {},
   "source": [
    "## Create score"
   ]
  },
  {
   "cell_type": "markdown",
   "metadata": {},
   "source": [
    "Sets format of date"
   ]
  },
  {
   "cell_type": "code",
   "execution_count": 8,
   "metadata": {
    "collapsed": false
   },
   "outputs": [],
   "source": [
    "datasetRC['DTNASC'] = datasetRC.DTNASC.str[-4:] + datasetRC.DTNASC.str[-6:-4]"
   ]
  },
  {
   "cell_type": "markdown",
   "metadata": {},
   "source": [
    "Select columns Facility ID, Robson Group and Type of Birth"
   ]
  },
  {
   "cell_type": "code",
   "execution_count": 9,
   "metadata": {
    "collapsed": false
   },
   "outputs": [],
   "source": [
    "filteredRC = datasetRC.groupby(['CODESTAB', 'ROBSON_GROUP', 'PARTO']\n",
    "                         ).size(\n",
    "                         ).reset_index(\n",
    "                         ).rename(columns={0:'CONTAGEM'})"
   ]
  },
  {
   "cell_type": "markdown",
   "metadata": {},
   "source": [
    "Pivots table to have both Robson Group and Type of Birth on the columns"
   ]
  },
  {
   "cell_type": "code",
   "execution_count": 10,
   "metadata": {
    "collapsed": false
   },
   "outputs": [],
   "source": [
    "pivotedRC = pd.pivot_table(filteredRC, values='CONTAGEM', index=['CODESTAB', 'PARTO'], columns=['ROBSON_GROUP']\n",
    "                          ).reset_index(\n",
    "                          ).fillna(value=0)"
   ]
  },
  {
   "cell_type": "code",
   "execution_count": 11,
   "metadata": {
    "collapsed": false
   },
   "outputs": [],
   "source": [
    "pivotedRC2 = pd.pivot_table(pivotedRC, values=['01', '02', '03', '04', '05', '06', '07', '08', '09', '10'], index=['CODESTAB'], columns=['PARTO']\n",
    "                           ).reset_index(\n",
    "                           ).fillna(value=0)"
   ]
  },
  {
   "cell_type": "code",
   "execution_count": 12,
   "metadata": {
    "collapsed": false
   },
   "outputs": [],
   "source": [
    "pivotedRC2.columns = [' '.join(col).strip() for col in pivotedRC2.columns.values]"
   ]
  },
  {
   "cell_type": "code",
   "execution_count": 13,
   "metadata": {
    "collapsed": true
   },
   "outputs": [],
   "source": [
    "totalRC = pivotedRC2"
   ]
  },
  {
   "cell_type": "markdown",
   "metadata": {},
   "source": [
    "Creates dataframe with total of births by group per facility"
   ]
  },
  {
   "cell_type": "code",
   "execution_count": 14,
   "metadata": {
    "collapsed": false
   },
   "outputs": [],
   "source": [
    "for group in range(1, 11):\n",
    "    if group != 10:\n",
    "        totalRC['TotalG' + str(group)] =  totalRC['0' + str(group) + ' 1'] + totalRC['0' + str(group) + ' 2']\n",
    "    else:\n",
    "        totalRC['TotalG' + str(group)] =  totalRC[str(group) + ' 1'] + totalRC[str(group) + ' 2']"
   ]
  },
  {
   "cell_type": "code",
   "execution_count": 15,
   "metadata": {
    "collapsed": true
   },
   "outputs": [],
   "source": [
    "totalByGroup = totalRC[['CODESTAB', 'TotalG1', 'TotalG2', 'TotalG3', 'TotalG4', 'TotalG5', 'TotalG6', 'TotalG7', 'TotalG8', 'TotalG9', 'TotalG10']]"
   ]
  },
  {
   "cell_type": "markdown",
   "metadata": {},
   "source": [
    "Creates dataframe with porcentage per type of birth"
   ]
  },
  {
   "cell_type": "code",
   "execution_count": 16,
   "metadata": {
    "collapsed": true
   },
   "outputs": [],
   "source": [
    "porcRC = totalRC['CODESTAB'].to_frame()"
   ]
  },
  {
   "cell_type": "code",
   "execution_count": 17,
   "metadata": {
    "collapsed": false
   },
   "outputs": [],
   "source": [
    "for group in range(1, 11):\n",
    "    for parto in range(1, 3):\n",
    "        if group != 10:\n",
    "            columnName = '0' + str(group) + ' ' + str(parto)\n",
    "        else: \n",
    "            columnName = str(group) + ' ' + str(parto)\n",
    "        letter = 'V' if parto == 1 else 'C'\n",
    "        newColumn = 'G' + str(group) + letter\n",
    "        porcRC[newColumn] = totalRC[columnName] / totalRC['TotalG' + str(group)]  "
   ]
  },
  {
   "cell_type": "code",
   "execution_count": 18,
   "metadata": {
    "collapsed": false
   },
   "outputs": [],
   "source": [
    "porcRC = porcRC.fillna(value=0)"
   ]
  },
  {
   "cell_type": "markdown",
   "metadata": {},
   "source": [
    "Creates dataframe with total of births per group and birth"
   ]
  },
  {
   "cell_type": "code",
   "execution_count": 19,
   "metadata": {
    "collapsed": false
   },
   "outputs": [],
   "source": [
    "GXCTable = totalRC.iloc[:, :21].rename(columns={'01 1':'G1V', '01 2':'G1C', '02 1':'G2V', '02 2':'G2C', '03 1':'G3V', '03 2':'G3C', '04 1':'G4V', '04 2':'G4C', '05 1':'G5V', '05 2':'G5C', '06 1':'G6V', '06 2':'G6C', '07 1':'G7V', '07 2':'G7C', '08 1':'G8V', '08 2':'G8C', '09 1':'G9V', '09 2':'G9C', '10 1':'G10V', '10 2':'G10C'})"
   ]
  },
  {
   "cell_type": "markdown",
   "metadata": {},
   "source": [
    "Creates dataframe with total of births per facility"
   ]
  },
  {
   "cell_type": "code",
   "execution_count": 20,
   "metadata": {
    "collapsed": false
   },
   "outputs": [],
   "source": [
    "totalBirths = filteredRC[['CODESTAB', 'CONTAGEM']].groupby('CODESTAB').sum(\n",
    "            ).reset_index(\n",
    "            ).rename(columns={'CONTAGEM':'CONT_PARTO'})"
   ]
  },
  {
   "cell_type": "markdown",
   "metadata": {},
   "source": [
    "Creates dataframe with total of C-section (cesareana)"
   ]
  },
  {
   "cell_type": "code",
   "execution_count": 21,
   "metadata": {
    "collapsed": false
   },
   "outputs": [],
   "source": [
    "totalCSec = filteredRC.loc[filteredRC.PARTO == '2'][['CODESTAB', 'CONTAGEM']].groupby('CODESTAB').sum(\n",
    "            ).reset_index(\n",
    "            ).rename(columns={'CONTAGEM':'CONT_CES'})"
   ]
  },
  {
   "cell_type": "markdown",
   "metadata": {},
   "source": [
    "Creates table with support variables to calculate the attributes for chi squared"
   ]
  },
  {
   "cell_type": "code",
   "execution_count": 22,
   "metadata": {
    "collapsed": false
   },
   "outputs": [],
   "source": [
    "finalSupport = GXCTable.merge(totalByGroup, how='outer').merge(totalCSec, how='outer').merge(totalBirths, how='outer')"
   ]
  },
  {
   "cell_type": "markdown",
   "metadata": {},
   "source": [
    "Creates table with attributes for chi squared"
   ]
  },
  {
   "cell_type": "code",
   "execution_count": 23,
   "metadata": {
    "collapsed": true
   },
   "outputs": [],
   "source": [
    "finalAttr = finalSupport['CODESTAB'].to_frame()"
   ]
  },
  {
   "cell_type": "code",
   "execution_count": 24,
   "metadata": {
    "collapsed": false
   },
   "outputs": [],
   "source": [
    "for group in range(1, 11):\n",
    "    \n",
    "    #A: GxC / (GxC + GxV) (porcentage)\n",
    "    finalAttr['A' + str(group)] = finalSupport['G' + str(group) + 'C'] / finalSupport['TotalG' + str(group)]\n",
    "    \n",
    "    #B: GxC / Total Cesareas\n",
    "    finalAttr['B' + str(group)] = finalSupport['G' + str(group) + 'C'] / finalSupport['CONT_CES']\n",
    "    \n",
    "    #C: GxC / Total Partos\n",
    "    finalAttr['C' + str(group)] = finalSupport['G' + str(group) + 'C'] / finalSupport['CONT_PARTO']"
   ]
  },
  {
   "cell_type": "code",
   "execution_count": 25,
   "metadata": {
    "collapsed": false
   },
   "outputs": [],
   "source": [
    "#D: (Total Cesareas / Total Partos)\n",
    "finalAttr['D'] = finalSupport['CONT_CES'] / finalSupport['CONT_PARTO']"
   ]
  },
  {
   "cell_type": "code",
   "execution_count": 26,
   "metadata": {
    "collapsed": false
   },
   "outputs": [],
   "source": [
    "finalAttr = finalAttr.fillna(value = 0)"
   ]
  },
  {
   "cell_type": "markdown",
   "metadata": {},
   "source": [
    "Dictionary with reference values for Robison group porcentage according to http://onlinelibrary.wiley.com/doi/10.1111/1471-0528.13509/pdf"
   ]
  },
  {
   "cell_type": "code",
   "execution_count": 27,
   "metadata": {
    "collapsed": false
   },
   "outputs": [],
   "source": [
    "robisonDict = {'G1A': 0.098, 'G1B': 0.293, 'G1C': 0.029, 'G2A': 0.399, 'G2B': 0.088, 'G2C': 0.035, 'G3A': 0.030, 'G3B': 0.401, 'G3C': 0.012, 'G4A': 0.237, 'G4B': 0.064, 'G4C': .015, 'G5A': 0.744, 'G5B': 0.072, 'G5C': 0.053, 'G6A': 0.785, 'G6B': 0.012, 'G6C': .009, 'G7A': 0.738, 'G7B': 0.015, 'G7C': 0.011, 'G8A': 0.577, 'G8B': 0.009, 'G8C': 0.005, 'G9A': 0.886, 'G9B': 0.004, 'G9C': 0.003, 'G10A': 0.251, 'G10B': 0.042, 'G10C': 0.010, 'GTR1': 0.185, 'GTR2': 1.000, 'GTR3': 0.185}"
   ]
  },
  {
   "cell_type": "code",
   "execution_count": 28,
   "metadata": {
    "collapsed": true
   },
   "outputs": [],
   "source": [
    "scoreAux = finalAttr['CODESTAB'].to_frame()"
   ]
  },
  {
   "cell_type": "markdown",
   "metadata": {},
   "source": [
    "Calculates chi squared values"
   ]
  },
  {
   "cell_type": "code",
   "execution_count": 29,
   "metadata": {
    "collapsed": true
   },
   "outputs": [],
   "source": [
    "def chi2(A, E): #chi squared function\n",
    "    return pow((A - E), 2)/E"
   ]
  },
  {
   "cell_type": "code",
   "execution_count": 30,
   "metadata": {
    "collapsed": false
   },
   "outputs": [],
   "source": [
    "for group in range(1, 11):\n",
    "    #for type in ['A', 'B', 'C']:\n",
    "    for type in ['A']: # removed B and C; they don't add degrees of freedom \n",
    "        scoreAux['S' + type + str(group)] = chi2(finalAttr[type + str(group)], robisonDict['G' + str(group) + type])"
   ]
  },
  {
   "cell_type": "code",
   "execution_count": 31,
   "metadata": {
    "collapsed": true
   },
   "outputs": [],
   "source": [
    "scoreAux['D'] = chi2(finalAttr['D'], robisonDict['GTR1'])\n",
    "# scoreAux['D'] = 2 * chi2(finalAttr['D'], robisonDict['GTR1']) Being consistent with cell above"
   ]
  },
  {
   "cell_type": "code",
   "execution_count": 32,
   "metadata": {
    "collapsed": true
   },
   "outputs": [],
   "source": [
    "scoreAux['SCORE'] = scoreAux.sum(axis=1)"
   ]
  },
  {
   "cell_type": "markdown",
   "metadata": {},
   "source": [
    "Final table for input in website with scores and amount of birth per group and type of birth"
   ]
  },
  {
   "cell_type": "code",
   "execution_count": 33,
   "metadata": {
    "collapsed": true
   },
   "outputs": [],
   "source": [
    "score = GXCTable.merge(scoreAux[['CODESTAB', 'SCORE']]).fillna(value=0)"
   ]
  },
  {
   "cell_type": "markdown",
   "metadata": {},
   "source": [
    "Applies function Rank to get a better distributed score"
   ]
  },
  {
   "cell_type": "code",
   "execution_count": 34,
   "metadata": {
    "collapsed": true
   },
   "outputs": [],
   "source": [
    "rankedScore = score['SCORE'].rank(method='min')"
   ]
  },
  {
   "cell_type": "code",
   "execution_count": 35,
   "metadata": {
    "collapsed": false
   },
   "outputs": [],
   "source": [
    "score[\"SCORE\"] = rankedScore"
   ]
  },
  {
   "cell_type": "markdown",
   "metadata": {},
   "source": [
    "Assigns score -1 to facilities with less than 20 births per year "
   ]
  },
  {
   "cell_type": "code",
   "execution_count": 36,
   "metadata": {
    "collapsed": false
   },
   "outputs": [],
   "source": [
    "invalidFacilities = list(totalBirths[totalBirths['CONT_PARTO'] < 20]['CODESTAB'])"
   ]
  },
  {
   "cell_type": "code",
   "execution_count": 37,
   "metadata": {
    "collapsed": true
   },
   "outputs": [],
   "source": [
    "def filterScore(facility):\n",
    "    return -1 if facility['CODESTAB'] in invalidFacilities else facility['SCORE']"
   ]
  },
  {
   "cell_type": "code",
   "execution_count": 38,
   "metadata": {
    "collapsed": false
   },
   "outputs": [],
   "source": [
    "score['SCORE'] = score.apply(filterScore, axis=1)"
   ]
  },
  {
   "cell_type": "markdown",
   "metadata": {},
   "source": [
    "Sorts by rank"
   ]
  },
  {
   "cell_type": "code",
   "execution_count": 39,
   "metadata": {
    "collapsed": true
   },
   "outputs": [],
   "source": [
    "score = score.sort_values(by='SCORE', ascending=False)"
   ]
  },
  {
   "cell_type": "markdown",
   "metadata": {},
   "source": [
    "Exports to CSV"
   ]
  },
  {
   "cell_type": "code",
   "execution_count": 40,
   "metadata": {
    "collapsed": true
   },
   "outputs": [],
   "source": [
    "scoreInvalidFacilities = score.loc[score['SCORE'] == -1]"
   ]
  },
  {
   "cell_type": "code",
   "execution_count": 41,
   "metadata": {
    "collapsed": false
   },
   "outputs": [],
   "source": [
    "scoreInvalidFacilities.to_csv('data/invalidFacilities.csv', index=False)"
   ]
  },
  {
   "cell_type": "code",
   "execution_count": 42,
   "metadata": {
    "collapsed": true
   },
   "outputs": [],
   "source": [
    "scoreValidFacilities = score.loc[score['SCORE'] != -1]"
   ]
  },
  {
   "cell_type": "code",
   "execution_count": 43,
   "metadata": {
    "collapsed": false
   },
   "outputs": [],
   "source": [
    "scoreValidFacilities.to_csv('data/validFacilities.csv', index=False)"
   ]
  }
 ],
 "metadata": {
  "anaconda-cloud": {},
  "kernelspec": {
   "display_name": "Python [conda root]",
   "language": "python",
   "name": "conda-root-py"
  },
  "language_info": {
   "codemirror_mode": {
    "name": "ipython",
    "version": 2
   },
   "file_extension": ".py",
   "mimetype": "text/x-python",
   "name": "python",
   "nbconvert_exporter": "python",
   "pygments_lexer": "ipython2",
   "version": "2.7.12"
  }
 },
 "nbformat": 4,
 "nbformat_minor": 1
}
